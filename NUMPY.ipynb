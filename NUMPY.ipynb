{
 "cells": [
  {
   "cell_type": "markdown",
   "metadata": {},
   "source": [
    "# Numpy"
   ]
  },
  {
   "cell_type": "markdown",
   "metadata": {},
   "source": [
    "Introduction to Numpy Array\n",
    "Welcome to this lesson on understanding Numpy arrays! Today, we will be focusing on numerical computations with Numpy, specifically around the creation, manipulation, and operations of Numpy arrays.\n",
    "\n",
    "Numpy, short for Numerical Python, is an essential library for performing numerical computations in Python. It has support for arrays (like lists in Python, but can store items of the same type), multidimensional arrays, matrices, and a large collection of high-level mathematical functions.\n",
    "\n",
    "In the world of data manipulation using Python, understanding and being able to use Numpy arrays allows us to efficiently manage numerical data."
   ]
  },
  {
   "cell_type": "markdown",
   "metadata": {},
   "source": [
    "***Creating a Numpy Array***\n",
    "The most common way to create a Numpy array is by using the numpy.array() function. You can pass any sequence-like object into this function, and it will be converted into an array. Let's convert a regular Python list into a Numpy array:"
   ]
  },
  {
   "cell_type": "code",
   "execution_count": 1,
   "metadata": {},
   "outputs": [],
   "source": [
    "import numpy as np"
   ]
  },
  {
   "cell_type": "code",
   "execution_count": 3,
   "metadata": {},
   "outputs": [
    {
     "name": "stdout",
     "output_type": "stream",
     "text": [
      "[1 2 3 4 5]\n"
     ]
    }
   ],
   "source": [
    "arr = np.array([1,2,3,4,5])\n",
    "print(arr)"
   ]
  },
  {
   "cell_type": "markdown",
   "metadata": {},
   "source": [
    "Executing these lines creates a one-dimensional Numpy array np_array with the same elements as our regular Python list py_list.\n",
    "\n",
    "We can also create two-dimensional arrays (similar to matrices). Let's convert a list of lists into a 2D Numpy array:"
   ]
  },
  {
   "cell_type": "code",
   "execution_count": 4,
   "metadata": {},
   "outputs": [
    {
     "name": "stdout",
     "output_type": "stream",
     "text": [
      "[[1 2]\n",
      " [3 4]]\n"
     ]
    }
   ],
   "source": [
    "array2D = np.array([[1,2],[3,4]])\n",
    "print(array2D)"
   ]
  },
  {
   "cell_type": "markdown",
   "metadata": {},
   "source": [
    "### Attributes of Numpy Arrays\n",
    "Numpy arrays come equipped with several attributes for gaining more insights:\n",
    "\n",
    "ndim tells us the number of dimensions of the array.\n",
    "shape gives us the size of each dimension.\n",
    "size tells us the total number of elements in the array.\n",
    "dtype tells us the data type of the elements in the array.\n",
    "Let's create a 2D array and use these attributes:"
   ]
  },
  {
   "cell_type": "code",
   "execution_count": 12,
   "metadata": {},
   "outputs": [
    {
     "name": "stdout",
     "output_type": "stream",
     "text": [
      "Dimension of array 2\n",
      "Shape of array (3, 3)\n",
      "Data Type of element int32\n",
      "Size:  9\n"
     ]
    }
   ],
   "source": [
    "my_array = np.array([[12,13,14],[31,41,34],[9,0,7]])\n",
    "\n",
    "print(\"Dimension of array\",my_array.ndim)\n",
    "print(\"Shape of array\",my_array.shape)\n",
    "print(\"Data Type of element\",my_array.dtype)\n",
    "print(\"Size: \", my_array.size)  "
   ]
  },
  {
   "cell_type": "markdown",
   "metadata": {},
   "source": [
    "### Array Manipulations: Indexing, Slicing and Reshaping Numpy Arrays\n",
    "Numpy arrays can be manipulated in various ways. For instance, we can access specific positions (indexing) and even slices of the array (slicing), or change the shape of the array (reshaping).\n",
    "\n",
    "Let's play around with these manipulations:"
   ]
  },
  {
   "cell_type": "code",
   "execution_count": 27,
   "metadata": {},
   "outputs": [
    {
     "name": "stdout",
     "output_type": "stream",
     "text": [
      "First sublist of ARRAY [12 13 14]\n",
      "Second element of first sublist of ARRAY 13\n",
      "Indexed Value:  34\n",
      "second row [[31 41 34]]\n",
      "[9 0]\n",
      "Reshaped array \n",
      " [[2 3 4]\n",
      " [5 7 6]]\n"
     ]
    }
   ],
   "source": [
    "#my_array = np.array([[12,13,14],[31,41,34],[9,0,7]])\n",
    "\n",
    "print(\"First sublist of ARRAY\",my_array[0])\n",
    "print(\"Second element of first sublist of ARRAY\",my_array[0][1])\n",
    "# Indexing: access the element at the second row, third column\n",
    "print(\"Indexed Value: \", my_array[1, 2]) # Indexed Value:  3\n",
    "\n",
    "# Slicing: access the second row \n",
    "print(\"second row\", my_array[1:2])\n",
    "\n",
    "# silice 3 row first 2 element\n",
    "print(my_array[2][0:2])\n",
    "\n",
    "\n",
    "# Reshape the array to 2 rows and 3 columns (only applicable if the reshaped total size equals the original size)\n",
    "new_array = np.array([[2,3],[4,5],[7,6]])\n",
    "reshaped_array = new_array.reshape(2,3)\n",
    "print(\"Reshaped array \\n\",reshaped_array)\n",
    "\n"
   ]
  },
  {
   "cell_type": "markdown",
   "metadata": {},
   "source": [
    "In the code snippet shown above, indexing is used to access a specific element in the array, slicing is used to access a range of elements, and reshaping is used to reconfigure the layout of the array while keeping the data intact."
   ]
  },
  {
   "cell_type": "markdown",
   "metadata": {},
   "source": [
    "### Array Operations\n",
    "We can perform arithmetic operations such as addition, subtraction, multiplication, and division on Numpy arrays, which calculates the outcome element-wise."
   ]
  },
  {
   "cell_type": "code",
   "execution_count": 35,
   "metadata": {},
   "outputs": [
    {
     "name": "stdout",
     "output_type": "stream",
     "text": [
      "addition of Two arrays : [5 7 9]\n",
      "subtraction of Two arrays : [-3 -3 -3]\n",
      "Multiplication of Two arrays : [ 4 10 18]\n",
      "Division of Two arrays : [0.25 0.4  0.5 ]\n"
     ]
    }
   ],
   "source": [
    "np_array1 = np.array([1,2,3])\n",
    "np_array2 = np.array([4,5,6])\n",
    "\n",
    "# Addition \n",
    "print(\"addition of Two arrays :\", np_array1 + np_array2)\n",
    "\n",
    "# Subtraction\n",
    "print(\"subtraction of Two arrays :\",np_array1 - np_array2)\n",
    "\n",
    "# Multiplication\n",
    "print(\"Multiplication of Two arrays :\", np_array1 * np_array2) # Output: [4 10 18]\n",
    "\n",
    "# Division\n",
    "print(\"Division of Two arrays :\",np_array1 / np_array2) # Output: [0.25 0.4 0.5]"
   ]
  },
  {
   "cell_type": "markdown",
   "metadata": {},
   "source": [
    "Here, every operation is applied to each corresponding pair of elements in np_array1 and np_array2, resulting in a new array consisting of these outcomes."
   ]
  }
 ],
 "metadata": {
  "kernelspec": {
   "display_name": "Python 3",
   "language": "python",
   "name": "python3"
  },
  "language_info": {
   "codemirror_mode": {
    "name": "ipython",
    "version": 3
   },
   "file_extension": ".py",
   "mimetype": "text/x-python",
   "name": "python",
   "nbconvert_exporter": "python",
   "pygments_lexer": "ipython3",
   "version": "3.10.2"
  }
 },
 "nbformat": 4,
 "nbformat_minor": 2
}
